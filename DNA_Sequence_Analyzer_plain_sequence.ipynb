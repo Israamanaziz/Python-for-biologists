{
  "nbformat": 4,
  "nbformat_minor": 0,
  "metadata": {
    "colab": {
      "provenance": [],
      "authorship_tag": "ABX9TyN66pp4btJYjMJ2Ir4ZS2zV",
      "include_colab_link": true
    },
    "kernelspec": {
      "name": "python3",
      "display_name": "Python 3"
    },
    "language_info": {
      "name": "python"
    }
  },
  "cells": [
    {
      "cell_type": "markdown",
      "metadata": {
        "id": "view-in-github",
        "colab_type": "text"
      },
      "source": [
        "<a href=\"https://colab.research.google.com/github/Israamanaziz/Python-for-biologists/blob/main/DNA_Sequence_Analyzer_plain_sequence.ipynb\" target=\"_parent\"><img src=\"https://colab.research.google.com/assets/colab-badge.svg\" alt=\"Open In Colab\"/></a>"
      ]
    },
    {
      "cell_type": "code",
      "source": [
        "!pip install biopython"
      ],
      "metadata": {
        "colab": {
          "base_uri": "https://localhost:8080/"
        },
        "id": "k9PPb1jiqI8w",
        "outputId": "22eaff17-c411-40ac-e6bf-129501ffac71"
      },
      "execution_count": 1,
      "outputs": [
        {
          "output_type": "stream",
          "name": "stdout",
          "text": [
            "Collecting biopython\n",
            "  Downloading biopython-1.85-cp312-cp312-manylinux_2_17_x86_64.manylinux2014_x86_64.whl.metadata (13 kB)\n",
            "Requirement already satisfied: numpy in /usr/local/lib/python3.12/dist-packages (from biopython) (2.0.2)\n",
            "Downloading biopython-1.85-cp312-cp312-manylinux_2_17_x86_64.manylinux2014_x86_64.whl (3.3 MB)\n",
            "\u001b[?25l   \u001b[90m━━━━━━━━━━━━━━━━━━━━━━━━━━━━━━━━━━━━━━━━\u001b[0m \u001b[32m0.0/3.3 MB\u001b[0m \u001b[31m?\u001b[0m eta \u001b[36m-:--:--\u001b[0m\r\u001b[2K   \u001b[91m━━━\u001b[0m\u001b[91m╸\u001b[0m\u001b[90m━━━━━━━━━━━━━━━━━━━━━━━━━━━━━━━━━━━━\u001b[0m \u001b[32m0.3/3.3 MB\u001b[0m \u001b[31m9.1 MB/s\u001b[0m eta \u001b[36m0:00:01\u001b[0m\r\u001b[2K   \u001b[91m━━━━━━━━━━━━━━━━━━━━━━━━━━━━\u001b[0m\u001b[90m╺\u001b[0m\u001b[90m━━━━━━━━━━━\u001b[0m \u001b[32m2.3/3.3 MB\u001b[0m \u001b[31m34.2 MB/s\u001b[0m eta \u001b[36m0:00:01\u001b[0m\r\u001b[2K   \u001b[90m━━━━━━━━━━━━━━━━━━━━━━━━━━━━━━━━━━━━━━━━\u001b[0m \u001b[32m3.3/3.3 MB\u001b[0m \u001b[31m34.2 MB/s\u001b[0m eta \u001b[36m0:00:00\u001b[0m\n",
            "\u001b[?25hInstalling collected packages: biopython\n",
            "Successfully installed biopython-1.85\n"
          ]
        }
      ]
    },
    {
      "cell_type": "code",
      "source": [
        "from Bio.Seq import Seq\n",
        "from Bio.SeqUtils import GC123\n",
        "\n",
        "def analyze_plain_sequence(dna_string):\n",
        "    dna_seq = Seq(dna_string.strip().replace(\"\\n\", \"\").upper())  # Remove newlines and uppercase\n",
        "\n",
        "    length = len(dna_seq)\n",
        "    gc_content = GC123(dna_seq)[0] # Access the first element of the tuple\n",
        "    at_content = 100 - gc_content\n",
        "    counts = {b: dna_seq.count(b) for b in 'ATGC'}\n",
        "    rev_comp = dna_seq.reverse_complement()\n",
        "    rna_seq = dna_seq.transcribe()\n",
        "    protein_seq = rna_seq.translate(to_stop=True)\n",
        "\n",
        "    print(\"Sequence details:\")\n",
        "    print(\"Length:\", length)\n",
        "    print(f\"GC content: {gc_content:.2f}%\")\n",
        "    print(f\"AT content: {at_content:.2f}%\")\n",
        "    print(\"Nucleotide counts:\", counts)\n",
        "    print(\"Reverse complement:\", rev_comp)\n",
        "    print(\"RNA sequence:\", rna_seq)\n",
        "    print(\"Protein sequence:\", protein_seq)\n",
        "\n",
        "if __name__ == \"__main__\":\n",
        "    print(\"Paste your DNA sequence:\")\n",
        "    seq_input = \"AGCTAGCTAGCTAGCT\"\n",
        "\n",
        "    analyze_plain_sequence(seq_input)"
      ],
      "metadata": {
        "colab": {
          "base_uri": "https://localhost:8080/"
        },
        "id": "BQ0DxmB2r6k_",
        "outputId": "d551d605-88dd-4c63-c242-98308af3036d"
      },
      "execution_count": 22,
      "outputs": [
        {
          "output_type": "stream",
          "name": "stdout",
          "text": [
            "Paste your DNA sequence:\n",
            "Sequence details:\n",
            "Length: 16\n",
            "GC content: 50.00%\n",
            "AT content: 50.00%\n",
            "Nucleotide counts: {'A': 4, 'T': 4, 'G': 4, 'C': 4}\n",
            "Reverse complement: AGCTAGCTAGCTAGCT\n",
            "RNA sequence: AGCUAGCUAGCUAGCU\n",
            "Protein sequence: S\n"
          ]
        },
        {
          "output_type": "stream",
          "name": "stderr",
          "text": [
            "/usr/local/lib/python3.12/dist-packages/Bio/Seq.py:2879: BiopythonWarning: Partial codon, len(sequence) not a multiple of three. Explicitly trim the sequence or add trailing N before translation. This may become an error in future.\n",
            "  warnings.warn(\n"
          ]
        }
      ]
    }
  ]
}