{
  "nbformat": 4,
  "nbformat_minor": 0,
  "metadata": {
    "colab": {
      "provenance": [],
      "authorship_tag": "ABX9TyOLe+Fka/FBEJFYQN6PT0+/"
    },
    "kernelspec": {
      "name": "python3",
      "display_name": "Python 3"
    },
    "language_info": {
      "name": "python"
    }
  },
  "cells": [
    {
      "cell_type": "markdown",
      "source": [
        "**Install Biopython**\n",
        "\n",
        "**Biopython is an essential Python library for bioinformatics. It provides tools to parse common biological file formats, manipulate sequences, and interact with online databases like NCBI. Its goal is to simplify complex bioinformatics tasks and help you write clean, repeatable analysis scripts.**"
      ],
      "metadata": {
        "id": "aNZWHnk_yq4-"
      }
    },
    {
      "cell_type": "code",
      "source": [
        "!pip install Biopython"
      ],
      "metadata": {
        "colab": {
          "base_uri": "https://localhost:8080/"
        },
        "id": "xP_01n5EyyJs",
        "outputId": "7ce2d60d-b8d7-48eb-ef63-f7433d96bdb6"
      },
      "execution_count": null,
      "outputs": [
        {
          "output_type": "stream",
          "name": "stdout",
          "text": [
            "Collecting Biopython\n",
            "  Downloading biopython-1.85-cp312-cp312-manylinux_2_17_x86_64.manylinux2014_x86_64.whl.metadata (13 kB)\n",
            "Requirement already satisfied: numpy in /usr/local/lib/python3.12/dist-packages (from Biopython) (2.0.2)\n",
            "Downloading biopython-1.85-cp312-cp312-manylinux_2_17_x86_64.manylinux2014_x86_64.whl (3.3 MB)\n",
            "\u001b[2K   \u001b[90m━━━━━━━━━━━━━━━━━━━━━━━━━━━━━━━━━━━━━━━━\u001b[0m \u001b[32m3.3/3.3 MB\u001b[0m \u001b[31m30.5 MB/s\u001b[0m eta \u001b[36m0:00:00\u001b[0m\n",
            "\u001b[?25hInstalling collected packages: Biopython\n",
            "Successfully installed Biopython-1.85\n"
          ]
        }
      ]
    },
    {
      "cell_type": "markdown",
      "source": [
        "A simple DNA_Sequence_Analyzer that fetches the accession id from NCBI database to analyze the sequence."
      ],
      "metadata": {
        "id": "v0JSoGQQzjMJ"
      }
    },
    {
      "cell_type": "code",
      "source": [
        "from Bio.Seq import Seq\n",
        "from Bio.SeqUtils import GC123\n",
        "from Bio import Entrez\n",
        "from Bio import SeqIO # Import SeqIO for FASTA parsing\n",
        "\n",
        "def analyze_sequence_from_entrez(entrez_id):\n",
        "    Entrez.email = \"azizisra2001@gmail.com\"\n",
        "    try:\n",
        "        handle = Entrez.efetch(db=\"nucleotide\", id=entrez_id, rettype=\"fasta\", retmode=\"text\")\n",
        "\n",
        "        #SeqIO is used to parse the FASTA format directly\n",
        "        record = SeqIO.read(handle, \"fasta\")\n",
        "        handle.close()\n",
        "\n",
        "        if not record.seq:\n",
        "            print(f\"Error: Could not retrieve sequence for Entrez ID {entrez_id}\")\n",
        "            return\n",
        "\n",
        "        dna_seq = record.seq.upper()\n",
        "\n",
        "        length = len(dna_seq)\n",
        "        gc_content = GC123(dna_seq)[0] # Accesses the first element of the tuple\n",
        "        at_content = 100 - gc_content\n",
        "        counts = {b: dna_seq.count(b) for b in 'ATGC'}\n",
        "        rev_comp = dna_seq.reverse_complement()\n",
        "        rna_seq = dna_seq.transcribe()\n",
        "        protein_seq = rna_seq.translate(to_stop=True)\n",
        "\n",
        "\n",
        "        print(f\"Sequence details for Entrez ID: {entrez_id}\")\n",
        "        print(\"Length:\", length)\n",
        "        print(f\"GC content: {gc_content:.2f}%\")\n",
        "        print(f\"AT content: {at_content:.2f}%\")\n",
        "        print(\"Nucleotide counts:\", counts)\n",
        "        print(\"Reverse complement:\", rev_comp)\n",
        "        print(\"RNA sequence:\", rna_seq)\n",
        "        print(\"Protein sequence:\", protein_seq)\n",
        "\n",
        "\n",
        "    except Exception as e:\n",
        "        print(f\"An error occurred: {e}\")\n",
        "\n",
        "\n",
        "if __name__ == \"__main__\":\n",
        "    accession_id = 'NM_001204686.1' # Entrez ID or accession ID\n",
        "\n",
        "    analyze_sequence_from_entrez(accession_id)"
      ],
      "metadata": {
        "colab": {
          "base_uri": "https://localhost:8080/"
        },
        "id": "f0trv6Cz1xQK",
        "outputId": "1c76366a-ad3f-46ef-febb-9e251c68c21b"
      },
      "execution_count": null,
      "outputs": [
        {
          "output_type": "stream",
          "name": "stdout",
          "text": [
            "Sequence details for Entrez ID: NM_001204686.1\n",
            "Length: 968\n",
            "GC content: 48.45%\n",
            "AT content: 51.55%\n",
            "Nucleotide counts: {'A': 255, 'T': 244, 'G': 224, 'C': 245}\n",
            "Reverse complement: ATCAATAATGCCTTCAGCTTCTTAGGGGACCTTCTATTCCTGCGGGTATCGCTGGTATGAAATAAATCTGGAAACTTTAGTCAAACACGTGGAAAAAACCCGCTAAATCTGACACCACGTGGACTCCTCCTTTATAATAATAATCACCAAATTAAAAATTTTAAAAGCATTTACGCCCTCAACATGTCTAACTAAAGTTGTCCTCCAACTGCGCATGTCCACTGTTGCTCCTTCCGGTTCTGGATATTCTGGAGAAGAAATGGTCTGGCAGACGGCAGTACTGAGCCAGCTCAAATATCCGACACTGGTTGAAGCAACATTCGCATGTGATGGAGCCTGAGGCCTCTCTCTTGGTCAAGTAGGAGAAAGCTTCTTTCTTATTGAGCAGGATCCCTCGTAACTTGTCGTTCACATTTTCCGTGTCTCTTTTGACCATGTACTTGGCCAGGAACCTCCTGTTGCCCCCCAGAGAGCTGCACAGGTTGGAAATGATGACGTGCAGGTCTTCGCCGCACAGACCCCGCGGGTGGGGCCGCATGTAGCCGTTGCACGAGTGCTCGAAGTTGGCCAGGGATATGTCGAGGTTGGAGGCCAGCGTGAGCAGAAGGGTGAGCAGGCAGGCGTTGGCGGAGTGGCTCTGGAGGAGGAACTTGCTCATTCTGGCTACGAGAAGGCACCGTTGGAACAGTCAGGAGAGGCTGGTAGCACCAATGTTGTTTCACCCGAGTTAGTTTTTCACTGGCCAGCAAAATGGTCCTGTTAAGACCAGAAAGGCAGCTAGAACAACAGTTTCTGCTCTCGCCGGCTGGGAATAAAAAACCTTACGACTCTCTTCCTCTTGTTCTTAGCGTATACTACTTTGGCGGACCAGAAATATAGTTATCGCTTGCAGAAGATGTTGACGATAAGATGTTGGAGACAAGCGTAGTCCTCTTAGAGTTCCTAGAATTTAGTTGGCTATATTCAGG\n",
            "RNA sequence: CCUGAAUAUAGCCAACUAAAUUCUAGGAACUCUAAGAGGACUACGCUUGUCUCCAACAUCUUAUCGUCAACAUCUUCUGCAAGCGAUAACUAUAUUUCUGGUCCGCCAAAGUAGUAUACGCUAAGAACAAGAGGAAGAGAGUCGUAAGGUUUUUUAUUCCCAGCCGGCGAGAGCAGAAACUGUUGUUCUAGCUGCCUUUCUGGUCUUAACAGGACCAUUUUGCUGGCCAGUGAAAAACUAACUCGGGUGAAACAACAUUGGUGCUACCAGCCUCUCCUGACUGUUCCAACGGUGCCUUCUCGUAGCCAGAAUGAGCAAGUUCCUCCUCCAGAGCCACUCCGCCAACGCCUGCCUGCUCACCCUUCUGCUCACGCUGGCCUCCAACCUCGACAUAUCCCUGGCCAACUUCGAGCACUCGUGCAACGGCUACAUGCGGCCCCACCCGCGGGGUCUGUGCGGCGAAGACCUGCACGUCAUCAUUUCCAACCUGUGCAGCUCUCUGGGGGGCAACAGGAGGUUCCUGGCCAAGUACAUGGUCAAAAGAGACACGGAAAAUGUGAACGACAAGUUACGAGGGAUCCUGCUCAAUAAGAAAGAAGCUUUCUCCUACUUGACCAAGAGAGAGGCCUCAGGCUCCAUCACAUGCGAAUGUUGCUUCAACCAGUGUCGGAUAUUUGAGCUGGCUCAGUACUGCCGUCUGCCAGACCAUUUCUUCUCCAGAAUAUCCAGAACCGGAAGGAGCAACAGUGGACAUGCGCAGUUGGAGGACAACUUUAGUUAGACAUGUUGAGGGCGUAAAUGCUUUUAAAAUUUUUAAUUUGGUGAUUAUUAUUAUAAAGGAGGAGUCCACGUGGUGUCAGAUUUAGCGGGUUUUUUCCACGUGUUUGACUAAAGUUUCCAGAUUUAUUUCAUACCAGCGAUACCCGCAGGAAUAGAAGGUCCCCUAAGAAGCUGAAGGCAUUAUUGAU\n",
            "Protein sequence: PEYSQLNSRNSKRTTLVSNILSSTSSASDNYISGPPK\n"
          ]
        }
      ]
    }
  ]
}